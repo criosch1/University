{
 "cells": [
  {
   "cell_type": "markdown",
   "metadata": {},
   "source": [
    "# Assignment: The university dataset (You may work solo or with one other person. Each person should have their own github repo with the completed assignment when you are done.) Load the university dataset (link below) into a pandas dataframe.\n"
   ]
  },
  {
   "cell_type": "code",
   "execution_count": null,
   "metadata": {},
   "outputs": [],
   "source": [
    "#Loading university dataframe \n",
    "import pandas as pd\n",
    "import numpy as np\n",
    "import matplotlib.pyplot as plt\n",
    "import seaborn as sns\n",
    "\n",
    "uni = pd.read_csv(\"https://s3-us-west-2.amazonaws.com/learn-assets.galvanize.com/gSchool/ds-curriculum/sql-block/universities.csv\",sep=',')"
   ]
  },
  {
   "cell_type": "markdown",
   "metadata": {},
   "source": [
    "# Data Exploration"
   ]
  },
  {
   "cell_type": "code",
   "execution_count": null,
   "metadata": {},
   "outputs": [],
   "source": [
    "uni.columns"
   ]
  },
  {
   "cell_type": "code",
   "execution_count": null,
   "metadata": {},
   "outputs": [],
   "source": [
    "uni.head()"
   ]
  },
  {
   "cell_type": "code",
   "execution_count": null,
   "metadata": {},
   "outputs": [],
   "source": [
    "uni.tail()"
   ]
  },
  {
   "cell_type": "code",
   "execution_count": null,
   "metadata": {},
   "outputs": [],
   "source": [
    "uni.info()"
   ]
  },
  {
   "cell_type": "code",
   "execution_count": null,
   "metadata": {},
   "outputs": [],
   "source": [
    "uni.describe()"
   ]
  },
  {
   "cell_type": "code",
   "execution_count": null,
   "metadata": {},
   "outputs": [],
   "source": [
    "#drops all null values for Size column\n",
    "uni = uni[uni.Size.notna()]"
   ]
  },
  {
   "cell_type": "code",
   "execution_count": null,
   "metadata": {},
   "outputs": [],
   "source": [
    "uni.info()"
   ]
  },
  {
   "cell_type": "code",
   "execution_count": null,
   "metadata": {},
   "outputs": [],
   "source": [
    "#reset dataframe index\n",
    "uni = uni.reset_index()"
   ]
  },
  {
   "cell_type": "code",
   "execution_count": null,
   "metadata": {},
   "outputs": [],
   "source": [
    "#uni.describe()"
   ]
  },
  {
   "cell_type": "markdown",
   "metadata": {},
   "source": [
    "# Find both the mean and median size by each university type (as given in the dataframe), ordered by average size in ascending order."
   ]
  },
  {
   "cell_type": "code",
   "execution_count": null,
   "metadata": {},
   "outputs": [],
   "source": [
    "group_type_mean = uni.groupby('Type').mean().sort_values(by='Size',ascending=True)\n",
    "group_type_mean"
   ]
  },
  {
   "cell_type": "code",
   "execution_count": null,
   "metadata": {},
   "outputs": [],
   "source": [
    "group_type_med = uni.groupby('Type').median().sort_values(by='Size',ascending=True)\n",
    "group_type_med"
   ]
  },
  {
   "cell_type": "markdown",
   "metadata": {},
   "source": [
    "# Make new columns in the dataframe from existing data for the following attributes: City, State, ZipCode, Private or Public, for-profit or not-for-profit, primarily associate's (1 for Yes, 0 for No)"
   ]
  },
  {
   "cell_type": "code",
   "execution_count": null,
   "metadata": {},
   "outputs": [],
   "source": [
    "address = uni['address']\n",
    "address = address.str.strip()\n",
    "address = address.str.rsplit(' ',2,expand=True)\n",
    "address.head()\n",
    "address = address.rename(columns={0:'address',1:'state',2:'zipcode'})\n",
    "address"
   ]
  },
  {
   "cell_type": "code",
   "execution_count": null,
   "metadata": {},
   "outputs": [],
   "source": [
    "zips = address['address'].str.rsplit(',',2,expand=True)\n",
    "zips.head()\n",
    "zips = zips.rename(columns={0:'address',1:'city'})\n",
    "zips.head(10)"
   ]
  },
  {
   "cell_type": "code",
   "execution_count": null,
   "metadata": {},
   "outputs": [],
   "source": [
    "uni['Address'] = zips['address']\n",
    "uni['City'] = zips['city']\n",
    "uni['State'] = address['state']\n",
    "uni['ZipCode'] = address['zipcode']\n",
    "uni"
   ]
  },
  {
   "cell_type": "markdown",
   "metadata": {},
   "source": [
    "# Primarily Associates (Yes = 1, No = 0)"
   ]
  },
  {
   "cell_type": "code",
   "execution_count": null,
   "metadata": {},
   "outputs": [],
   "source": [
    "type_uni = uni['Type']\n",
    "type_uni = type_uni.str.strip()\n",
    "type_uni = type_uni.str.split(',', expand=True)\n",
    "type_uni"
   ]
  },
  {
   "cell_type": "code",
   "execution_count": null,
   "metadata": {},
   "outputs": [],
   "source": [
    "associates = []\n",
    "for i in type_uni[1]:\n",
    "    if 'primarily' in i:\n",
    "        associates.append(1)\n",
    "    else:\n",
    "        associates.append(0)\n"
   ]
  },
  {
   "cell_type": "code",
   "execution_count": null,
   "metadata": {},
   "outputs": [],
   "source": [
    "associates = pd.Series(associates)"
   ]
  },
  {
   "cell_type": "code",
   "execution_count": null,
   "metadata": {},
   "outputs": [],
   "source": [
    "uni['associates'] = associates"
   ]
  },
  {
   "cell_type": "code",
   "execution_count": null,
   "metadata": {},
   "outputs": [],
   "source": [
    "uni.head()"
   ]
  },
  {
   "cell_type": "markdown",
   "metadata": {},
   "source": [
    "# Profit/Non-Profit (Yes = 1 / profit, No = 0 / non-profit)"
   ]
  },
  {
   "cell_type": "code",
   "execution_count": null,
   "metadata": {},
   "outputs": [],
   "source": [
    "Profit_Non_Profit = []\n",
    "for i in uni['Type']:\n",
    "    if 'not-for' in i:\n",
    "        Profit_Non_Profit.append('Not_For_Profit')\n",
    "    elif 'Public' in i:\n",
    "        Profit_Non_Profit.append('Not_For_Profit')\n",
    "    else:\n",
    "        Profit_Non_Profit.append('For_Profit')"
   ]
  },
  {
   "cell_type": "code",
   "execution_count": null,
   "metadata": {},
   "outputs": [],
   "source": [
    "Profit_Non_Profit = pd.Series(Profit_Non_Profit)\n",
    "uni['Profit'] = Profit_Non_Profit\n",
    "uni"
   ]
  },
  {
   "cell_type": "markdown",
   "metadata": {},
   "source": [
    "# Using the new columns you've made above (and excluding the original type column), find both the mean and median size of each university by State, by Private or Public, and whether the university is primarily associate's or not."
   ]
  },
  {
   "cell_type": "code",
   "execution_count": null,
   "metadata": {},
   "outputs": [],
   "source": [
    "state_size_mean = uni.groupby('State').mean().sort_values(by='Size',ascending=True)\n",
    "state_size_mean['Size']"
   ]
  },
  {
   "cell_type": "code",
   "execution_count": null,
   "metadata": {},
   "outputs": [],
   "source": [
    "state_size_median = uni.groupby('State').median().sort_values(by='Size',ascending=True)\n",
    "state_size_median['Size']"
   ]
  },
  {
   "cell_type": "code",
   "execution_count": null,
   "metadata": {},
   "outputs": [],
   "source": [
    "priv_pub_mean = uni.groupby('Profit').mean().sort_values(by='Size',ascending=True)\n",
    "priv_pub_mean['Size']"
   ]
  },
  {
   "cell_type": "code",
   "execution_count": null,
   "metadata": {},
   "outputs": [],
   "source": [
    "priv_pub_median = uni.groupby('Profit').median().sort_values(by='Size',ascending=True)\n",
    "priv_pub_median['Size']"
   ]
  },
  {
   "cell_type": "code",
   "execution_count": null,
   "metadata": {},
   "outputs": [],
   "source": [
    "universities = uni.groupby('name')\n",
    "universities"
   ]
  },
  {
   "cell_type": "code",
   "execution_count": null,
   "metadata": {},
   "outputs": [],
   "source": [
    "#states whether the university is primarily associate's or not\n",
    "uni['True/False'] = uni['associates'].replace({0: False, 1: True})\n",
    "uni[['name','True/False']]"
   ]
  },
  {
   "cell_type": "markdown",
   "metadata": {},
   "source": [
    "# Use the tools you've learned to compute at least one other aggregate from the dataset"
   ]
  },
  {
   "cell_type": "code",
   "execution_count": null,
   "metadata": {},
   "outputs": [],
   "source": [
    "uni.count()"
   ]
  },
  {
   "cell_type": "code",
   "execution_count": null,
   "metadata": {},
   "outputs": [],
   "source": [
    "state_stdv = uni.groupby('State').std().sort_values(by='Size',ascending=True)\n",
    "state_stdv['Size']"
   ]
  },
  {
   "cell_type": "markdown",
   "metadata": {},
   "source": [
    "# Save the updated dataframe as a csv (using the pandas to_csv method)"
   ]
  },
  {
   "cell_type": "code",
   "execution_count": null,
   "metadata": {},
   "outputs": [],
   "source": [
    "uni.to_csv('clean_university.csv', header=True, index=False)"
   ]
  }
 ],
 "metadata": {
  "kernelspec": {
   "display_name": "Python 3",
   "language": "python",
   "name": "python3"
  },
  "language_info": {
   "codemirror_mode": {
    "name": "ipython",
    "version": 3
   },
   "file_extension": ".py",
   "mimetype": "text/x-python",
   "name": "python",
   "nbconvert_exporter": "python",
   "pygments_lexer": "ipython3",
   "version": "3.7.4"
  }
 },
 "nbformat": 4,
 "nbformat_minor": 4
}
